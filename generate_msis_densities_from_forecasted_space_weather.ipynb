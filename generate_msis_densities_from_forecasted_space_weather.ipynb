{
 "cells": [
  {
   "cell_type": "markdown",
   "metadata": {},
   "source": [
    "# Orekit Propagation with MSIS Using Predicted Space Weather Indices\n",
    "\n",
    "This notebook uses forecasted space weather indices (ap_index_nT_pred and f10.7_index_pred) stored in `/data/sat_density_omni_forcasted` together with initial state data (from `initial_state_folder`) for a given file_id. Using these inputs, we propagate the orbit with Orekit and compute the atmospheric density using MSIS. The MSIS model is fed the predicted values instead of the original OMNI measurements.\n",
    "\n",
    "The outputs (orbital elements and MSIS density) are then saved and/or plotted.\n"
   ]
  },
  {
   "cell_type": "code",
   "execution_count": null,
   "metadata": {
    "vscode": {
     "languageId": "plaintext"
    }
   },
   "outputs": [],
   "source": [
    "import pandas as pd\n",
    "import numpy as np\n",
    "import torch\n",
    "import matplotlib.pyplot as plt\n",
    "import matplotlib.dates as mdates\n",
    "import orekit\n",
    "from orekit.pyhelpers import setup_orekit_curdir\n",
    "from org.orekit.time import AbsoluteDate, TimeScalesFactory\n",
    "from org.orekit.utils import Constants\n",
    "from org.orekit.models.earth.atmosphere import PythonAtmosphere\n",
    "import math\n",
    "\n",
    "# Initialize Orekit and the JVM\n",
    "vm = orekit.initVM()\n",
    "setup_orekit_curdir()\n",
    "\n",
    "# (Optionally set matplotlib parameters)\n",
    "plt.rcParams.update({'font.size': 12})\n",
    "\n",
    "# ------------------------------------------------------------------------------\n",
    "# A custom MSIS model that uses the predicted values.\n",
    "# ------------------------------------------------------------------------------\n",
    "class PredictedMSIS(PythonAtmosphere):\n",
    "    def __init__(self):\n",
    "        super().__init__()\n",
    "    \n",
    "    def run_with_predicted(self, dt, lon, lat, alt, f107_pred, ap_pred):\n",
    "        \"\"\"\n",
    "        Run MSIS using the provided predicted F10.7 and Ap values.\n",
    "        \n",
    "        Args:\n",
    "            dt (datetime): Simulation datetime.\n",
    "            lon (float): Longitude (degrees)\n",
    "            lat (float): Latitude (degrees)\n",
    "            alt (float): Altitude (km)\n",
    "            f107_pred (float): Predicted F10.7 solar radio flux.\n",
    "            ap_pred (float): Predicted Ap index.\n",
    "        \n",
    "        Returns:\n",
    "            float: Density value from MSIS.\n",
    "        \"\"\"\n",
    "        # For simplicity, here we pass the predicted values as scalars.\n",
    "        # You might want to adjust how the \"aps\" array is built.\n",
    "        result = msis.run(\n",
    "            dates=[dt],\n",
    "            lons=[lon],\n",
    "            lats=[lat],\n",
    "            alts=[alt],\n",
    "            f107s=[f107_pred],\n",
    "            aps=[[ap_pred]*7]  # replicate the Ap value (for 7 required inputs)\n",
    "        )\n",
    "        return result[0, 0]\n",
    "\n",
    "# Import the pyMSIS msis function (make sure pymsis is installed)\n",
    "from pymsis import msis\n"
   ]
  },
  {
   "cell_type": "markdown",
   "metadata": {},
   "source": [
    "## 1. Load Forecasted Sat Density Data and Initial State\n",
    "\n",
    "This cell loads the forecasted sat_density_omni_forcasted file for a given file_id and the corresponding initial state file from the initial_state_folder.\n"
   ]
  },
  {
   "cell_type": "code",
   "execution_count": null,
   "metadata": {
    "vscode": {
     "languageId": "plaintext"
    }
   },
   "outputs": [],
   "source": [
    "# Define file_id (adjust as needed)\n",
    "file_id = 1\n",
    "\n",
    "# Load the forecasted sat density file (which has the predicted columns)\n",
    "sat_forecasted_path = Path(\"./data/sat_density_omni_forcasted\") / f\"sat_density_{file_id:05d}.csv\"\n",
    "predicted_sat_df = pd.read_csv(sat_forecasted_path, parse_dates=[\"Timestamp\"])\n",
    "predicted_sat_df.sort_values(\"Timestamp\", inplace=True)\n",
    "print(\"Forecasted sat density file loaded. Sample:\")\n",
    "print(predicted_sat_df.head())\n",
    "\n",
    "# Load the corresponding initial state file (assuming one file per file_id in initial_state_folder)\n",
    "initial_state_path = Path(\"./data/initial_state\") / f\"initial_state_{file_id:05d}.csv\"\n",
    "initial_state_df = pd.read_csv(initial_state_path, parse_dates=[\"Timestamp\"])\n",
    "initial_state_df.sort_values(\"Timestamp\", inplace=True)\n",
    "print(\"Initial state file loaded. Sample:\")\n",
    "print(initial_state_df.head())\n"
   ]
  },
  {
   "cell_type": "markdown",
   "metadata": {},
   "source": [
    "## 2. Setup Propagation and MSIS Using Predicted Space Weather Values\n",
    "\n",
    "In this cell, we prepare the propagation using Orekit. We use the initial state from the corresponding file, and then at each desired timestamp (from the forecasted sat density file) we will use our custom MSIS model that is fed the predicted values.\n"
   ]
  },
  {
   "cell_type": "code",
   "execution_count": null,
   "metadata": {
    "vscode": {
     "languageId": "plaintext"
    }
   },
   "outputs": [],
   "source": [
    "# For demonstration, we take the first row from the initial state file as our simulation initial state.\n",
    "# You might need to adapt this based on your actual file structure.\n",
    "initial_state = initial_state_df.iloc[0]\n",
    "\n",
    "# Define a simulation point: for example, propagate to each timestamp in the forecast file.\n",
    "# For simplicity, we will assume the propagation uses a fixed position (or use initial state position).\n",
    "# In practice, you might want to compute a new orbit using Orekit's propagator.\n",
    "\n",
    "# Here we assume a fixed location (latitude, longitude, altitude) for MSIS density computation.\n",
    "# For example, let's assume a location at (lat=45 deg, lon=0 deg, alt=400 km).\n",
    "lat = 45.0   # degrees\n",
    "lon = 0.0    # degrees\n",
    "alt = 400.0  # km\n",
    "\n",
    "# For each forecast timestamp, we will:\n",
    "# 1) Use the corresponding predicted ap_index_nT_pred and f10.7_index_pred.\n",
    "# 2) Propagate (or simply compute MSIS density) at that timestamp.\n",
    "# We'll store the density values in a new column.\n",
    "\n",
    "from datetime import datetime\n",
    "\n",
    "# Create an instance of our custom MSIS model (here we assume no extra data is needed)\n",
    "msis_model = PredictedMSIS()\n",
    "\n",
    "densities = []\n",
    "for idx, row in predicted_sat_df.iterrows():\n",
    "    # Get the forecast timestamp\n",
    "    t = row[\"Timestamp\"]\n",
    "    # Convert t to a Python datetime object (if needed)\n",
    "    dt = pd.to_datetime(t)\n",
    "    \n",
    "    # Get predicted values for this timestamp\n",
    "    ap_pred = row[\"ap_index_nT_pred\"]\n",
    "    f107_pred = row[\"f10.7_index_pred\"]\n",
    "    \n",
    "    # Run MSIS with predicted values.\n",
    "    # Here we use our custom method; in practice, you might need to adjust parameters.\n",
    "    density = msis_model.run_with_predicted(dt, lon, lat, alt, f107_pred, ap_pred)\n",
    "    densities.append(density)\n",
    "\n",
    "# Append densities to the predicted_sat_df.\n",
    "predicted_sat_df[\"MSIS_density\"] = densities\n",
    "\n",
    "print(\"Propagation complete. Sample of results:\")\n",
    "print(predicted_sat_df.head())\n"
   ]
  },
  {
   "cell_type": "markdown",
   "metadata": {},
   "source": [
    "## 3. Plot Propagation Results\n",
    "\n",
    "This cell plots the computed MSIS density over the forecast timestamps.\n"
   ]
  },
  {
   "cell_type": "code",
   "execution_count": null,
   "metadata": {
    "vscode": {
     "languageId": "plaintext"
    }
   },
   "outputs": [],
   "source": [
    "import matplotlib.pyplot as plt\n",
    "import matplotlib.dates as mdates\n",
    "\n",
    "plt.figure(figsize=(12, 6))\n",
    "plt.plot(predicted_sat_df[\"Timestamp\"], predicted_sat_df[\"MSIS_density\"], marker='o', linestyle='-')\n",
    "plt.xlabel(\"Timestamp\")\n",
    "plt.ylabel(\"MSIS Density\")\n",
    "plt.title(\"MSIS Density Computed with Predicted ap_index_nT and f10.7_index\")\n",
    "plt.xticks(rotation=45)\n",
    "plt.gca().xaxis.set_major_formatter(mdates.DateFormatter('%Y-%m-%d %H:%M:%S'))\n",
    "plt.tight_layout()\n",
    "plt.show()\n"
   ]
  }
 ],
 "metadata": {
  "language_info": {
   "name": "python"
  }
 },
 "nbformat": 4,
 "nbformat_minor": 2
}
